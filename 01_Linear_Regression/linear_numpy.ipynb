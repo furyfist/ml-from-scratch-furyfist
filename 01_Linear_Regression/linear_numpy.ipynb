{
 "cells": [
  {
   "cell_type": "markdown",
   "id": "71817517",
   "metadata": {},
   "source": [
    "Implementation in Numpy"
   ]
  },
  {
   "cell_type": "code",
   "execution_count": 4,
   "id": "87b75213",
   "metadata": {},
   "outputs": [],
   "source": [
    "import numpy as np\n",
    "import matplotlib.pyplot as plt\n",
    "from sklearn.linear_model import LinearRegression"
   ]
  },
  {
   "cell_type": "code",
   "execution_count": 5,
   "id": "a3116283",
   "metadata": {},
   "outputs": [],
   "source": [
    "# Set random seed for reproducibility\n",
    "np.random.seed(42)"
   ]
  },
  {
   "cell_type": "markdown",
   "id": "a6684757",
   "metadata": {},
   "source": [
    "**Step 1: Generate synthetic data**\n"
   ]
  },
  {
   "cell_type": "code",
   "execution_count": 13,
   "id": "61f4637a",
   "metadata": {},
   "outputs": [],
   "source": [
    "n_samples = 100\n",
    "X = np.linspace(0,10, n_samples).reshape(-1,1)\n",
    "true_weight = 2.5 # true slope\n",
    "true_bias = 1.0 # true intercept\n",
    "\n",
    "noise = np.random.normal(0,0.5,n_samples) # gaussian noise with std=0.5\n",
    "y = (X * true_weight + true_bias + noise).ravel() # target valuses with noise"
   ]
  },
  {
   "cell_type": "code",
   "execution_count": 7,
   "id": "a522fa8d",
   "metadata": {},
   "outputs": [],
   "source": [
    "# Add bias column (1s) to X for matrix multiplication\n",
    "X_with_bias = np.hstack([np.ones((n_samples,1)), X]) # hstack : \"stacks\" arrays horizontally\n",
    "\n",
    "# shape: (100, 2) "
   ]
  },
  {
   "cell_type": "markdown",
   "id": "49ae0693",
   "metadata": {},
   "source": [
    "**Step 2️a: Linear Regression via Normal Equation**"
   ]
  },
  {
   "cell_type": "code",
   "execution_count": 8,
   "id": "007ff580",
   "metadata": {},
   "outputs": [],
   "source": [
    "#Formula: θ = (XᵀX)^(-1) Xᵀy\n",
    "weights_normal = np.linalg.solve(X_with_bias.T @ X_with_bias, X_with_bias.T @y)\n",
    "y_pred_normal = X_with_bias @ weights_normal\n"
   ]
  },
  {
   "cell_type": "markdown",
   "id": "a61106f8",
   "metadata": {},
   "source": [
    "**Step 2️b: Linear Regression via Gradient Descent**"
   ]
  },
  {
   "cell_type": "code",
   "execution_count": 15,
   "id": "f4d8d442",
   "metadata": {},
   "outputs": [
    {
     "ename": "ValueError",
     "evalue": "operands could not be broadcast together with shapes (100,) (10000,) ",
     "output_type": "error",
     "traceback": [
      "\u001b[31m---------------------------------------------------------------------------\u001b[39m",
      "\u001b[31mValueError\u001b[39m                                Traceback (most recent call last)",
      "\u001b[36mCell\u001b[39m\u001b[36m \u001b[39m\u001b[32mIn[15]\u001b[39m\u001b[32m, line 8\u001b[39m\n\u001b[32m      6\u001b[39m \u001b[38;5;28;01mfor\u001b[39;00m _ \u001b[38;5;129;01min\u001b[39;00m \u001b[38;5;28mrange\u001b[39m(n_iterations):\n\u001b[32m      7\u001b[39m     y_pred = X_with_bias @ weights_gd\n\u001b[32m----> \u001b[39m\u001b[32m8\u001b[39m     cost = (\u001b[32m1\u001b[39m / (\u001b[32m2\u001b[39m * n_samples)) * np.sum((\u001b[43my_pred\u001b[49m\u001b[43m \u001b[49m\u001b[43m-\u001b[49m\u001b[43m \u001b[49m\u001b[43my\u001b[49m\u001b[43m.\u001b[49m\u001b[43mravel\u001b[49m\u001b[43m(\u001b[49m\u001b[43m)\u001b[49m) ** \u001b[32m2\u001b[39m)\n\u001b[32m      9\u001b[39m     cost_history.append(cost)\n\u001b[32m     11\u001b[39m     grad = (\u001b[32m1\u001b[39m / n_samples) * X_with_bias.T @ (y_pred - y.ravel())\n",
      "\u001b[31mValueError\u001b[39m: operands could not be broadcast together with shapes (100,) (10000,) "
     ]
    }
   ],
   "source": [
    "weights_gd = np.zeros(2)           # Initialize weights: [bias, slope]\n",
    "learning_rate = 0.01\n",
    "n_iterations = 1000\n",
    "cost_history = []\n",
    "\n",
    "for _ in range(n_iterations):\n",
    "    y_pred = X_with_bias @ weights_gd\n",
    "    cost = (1 / (2 * n_samples)) * np.sum((y_pred - y.ravel()) ** 2)\n",
    "    cost_history.append(cost)\n",
    "    \n",
    "    grad = (1 / n_samples) * X_with_bias.T @ (y_pred - y.ravel())\n",
    "    weights_gd -= learning_rate * grad\n",
    "\n",
    "y_pred_gd = X_with_bias @ weights_gd"
   ]
  },
  {
   "cell_type": "code",
   "execution_count": null,
   "id": "78e76fed",
   "metadata": {},
   "outputs": [],
   "source": []
  },
  {
   "cell_type": "code",
   "execution_count": null,
   "id": "65db0c82",
   "metadata": {},
   "outputs": [],
   "source": []
  },
  {
   "cell_type": "code",
   "execution_count": 6,
   "id": "a994fe7c",
   "metadata": {},
   "outputs": [
    {
     "name": "stdout",
     "output_type": "stream",
     "text": [
      "Iteration 0: Loss = 16.6505, m = 0.0339, b = 0.0569\n",
      "Iteration 100: Loss = 1.2546, m = 1.8982, b = 3.1733\n",
      "Iteration 200: Loss = 0.1883, m = 2.3986, b = 3.9876\n",
      "\n",
      "Final model: y = 2.54x + 4.20\n"
     ]
    },
    {
     "data": {
      "image/png": "[encoded data removed]",
      "text/plain": [
       "<Figure size 640x480 with 1 Axes>"
      ]
     },
     "metadata": {},
     "output_type": "display_data"
    }
   ],
   "source": [
    "import numpy as np\n",
    "import matplotlib.pyplot as plt\n",
    "\n",
    "# Step 1: Generate dummy data\n",
    "X = np.random.rand(100, 1)\n",
    "y = 3 * X.squeeze() + 4 + np.random.randn(100) * 0.5\n",
    "\n",
    "# Step 2: Initialize parameters\n",
    "m = 0.0  # slope\n",
    "b = 0.0  # intercept\n",
    "alpha = 0.01  # learning rate\n",
    "n = 300  # total iterations\n",
    "size = X.shape[0]\n",
    "\n",
    "cost_history = []\n",
    "\n",
    "# Step 3: Gradient Descent Loop\n",
    "for i in range(n):\n",
    "    y_pred = m * X.squeeze() + b\n",
    "    error = y_pred - y\n",
    "\n",
    "    # Compute gradients\n",
    "    dm = (1 / size) * np.dot(error, X.squeeze())\n",
    "    db = (1 / size) * np.sum(error)\n",
    "\n",
    "    # Update parameters\n",
    "    m -= alpha * dm\n",
    "    b -= alpha * db\n",
    "\n",
    "    # Compute and store loss\n",
    "    loss = (1 / (2 * size)) * np.sum(error ** 2)\n",
    "    cost_history.append(loss)\n",
    "\n",
    "    if i % 100 == 0:\n",
    "        print(f\"Iteration {i}: Loss = {loss:.4f}, m = {m:.4f}, b = {b:.4f}\")\n",
    "\n",
    "# Step 4: Final Result\n",
    "print(f\"\\nFinal model: y = {m:.2f}x + {b:.2f}\")\n",
    "\n",
    "# Step 5: Plot Cost vs Iteration\n",
    "plt.plot(range(n), cost_history)\n",
    "plt.xlabel('Iteration')\n",
    "plt.ylabel('Cost (MSE)')\n",
    "plt.title('Cost vs Iteration')\n",
    "plt.grid(True)\n",
    "plt.show()\n"
   ]
  },
  {
   "cell_type": "code",
   "execution_count": 7,
   "id": "f70d1d39",
   "metadata": {},
   "outputs": [
    {
     "name": "stdout",
     "output_type": "stream",
     "text": [
      "Iteration 0: Loss = 16.1071, m = 0.0311, b = 0.0558\n",
      "Iteration 100: Loss = 1.3727, m = 1.7860, b = 3.1641\n",
      "Iteration 200: Loss = 0.2469, m = 2.2998, b = 4.0066\n",
      "Iteration 300: Loss = 0.1593, m = 2.4690, b = 4.2244\n",
      "Iteration 400: Loss = 0.1511, m = 2.5412, b = 4.2706\n",
      "Iteration 500: Loss = 0.1491, m = 2.5850, b = 4.2703\n",
      "Iteration 600: Loss = 0.1477, m = 2.6195, b = 4.2580\n",
      "Iteration 700: Loss = 0.1466, m = 2.6499, b = 4.2432\n",
      "Iteration 800: Loss = 0.1456, m = 2.6779, b = 4.2284\n",
      "Iteration 900: Loss = 0.1447, m = 2.7039, b = 4.2143\n",
      "\n",
      "Final model: y = 2.73x + 4.20\n"
     ]
    },
    {
     "data": {
      "image/png": "[encoded data removed]",
      "text/plain": [
       "<Figure size 640x480 with 1 Axes>"
      ]
     },
     "metadata": {},
     "output_type": "display_data"
    }
   ],
   "source": [
    "import numpy as np\n",
    "import matplotlib.pyplot as plt\n",
    "\n",
    "# Step 1: Generate dummy data\n",
    "X = np.random.rand(100, 1)\n",
    "y = 3 * X.squeeze() + 4 + np.random.randn(100) * 0.5\n",
    "\n",
    "# Step 2: Initialize parameters\n",
    "m = 0.0  # slope\n",
    "b = 0.0  # intercept\n",
    "alpha = 0.01  # learning rate\n",
    "n = 1000  # total iterations\n",
    "size = X.shape[0]\n",
    "\n",
    "cost_history = []\n",
    "\n",
    "# Step 3: Gradient Descent Loop\n",
    "for i in range(n):\n",
    "    y_pred = m * X.squeeze() + b\n",
    "    error = y_pred - y\n",
    "\n",
    "    # Compute gradients\n",
    "    dm = (1 / size) * np.dot(error, X.squeeze())\n",
    "    db = (1 / size) * np.sum(error)\n",
    "\n",
    "    # Update parameters\n",
    "    m -= alpha * dm\n",
    "    b -= alpha * db\n",
    "\n",
    "    # Compute and store loss\n",
    "    loss = (1 / (2 * size)) * np.sum(error ** 2)\n",
    "    cost_history.append(loss)\n",
    "\n",
    "    if i % 100 == 0:\n",
    "        print(f\"Iteration {i}: Loss = {loss:.4f}, m = {m:.4f}, b = {b:.4f}\")\n",
    "\n",
    "# Step 4: Final Result\n",
    "print(f\"\\nFinal model: y = {m:.2f}x + {b:.2f}\")\n",
    "\n",
    "# Step 5: Plot Cost vs Iteration\n",
    "plt.plot(range(n), cost_history)\n",
    "plt.xlabel('Iteration')\n",
    "plt.ylabel('Cost (MSE)')\n",
    "plt.title('Cost vs Iteration')\n",
    "plt.grid(True)\n",
    "plt.show()\n"
   ]
  },
  {
   "cell_type": "code",
   "execution_count": null,
   "id": "3a64bcf6",
   "metadata": {},
   "outputs": [],
   "source": []
  }
 ],
 "metadata": {
  "kernelspec": {
   "display_name": ".venv",
   "language": "python",
   "name": "python3"
  },
  "language_info": {
   "codemirror_mode": {
    "name": "ipython",
    "version": 3
   },
   "file_extension": ".py",
   "mimetype": "text/x-python",
   "name": "python",
   "nbconvert_exporter": "python",
   "pygments_lexer": "ipython3",
   "version": "3.13.2"
  }
 },
 "nbformat": 4,
 "nbformat_minor": 5
}
